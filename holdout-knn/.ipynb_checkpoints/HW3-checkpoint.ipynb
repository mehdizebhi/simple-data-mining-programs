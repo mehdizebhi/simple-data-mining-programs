{
 "cells": [
  {
   "cell_type": "code",
   "execution_count": 37,
   "metadata": {},
   "outputs": [
    {
     "name": "stdout",
     "output_type": "stream",
     "text": [
      "accuracy :  0.8411764705882353\n",
      "precision :  0.907044817927171\n",
      "recall :  0.8411764705882353\n"
     ]
    },
    {
     "name": "stderr",
     "output_type": "stream",
     "text": [
      "D:\\Program File\\Anaconda\\lib\\site-packages\\sklearn\\metrics\\_classification.py:1221: UndefinedMetricWarning: Recall is ill-defined and being set to 0.0 in labels with no true samples. Use `zero_division` parameter to control this behavior.\n",
      "  _warn_prf(average, modifier, msg_start, len(result))\n"
     ]
    }
   ],
   "source": [
    "import pandas as pd\n",
    "import numpy as np\n",
    "from sklearn.preprocessing import MinMaxScaler\n",
    "from scipy.spatial import distance\n",
    "from sklearn.metrics import accuracy_score\n",
    "from sklearn.metrics import precision_score\n",
    "from sklearn.metrics import recall_score\n",
    "from sklearn.model_selection import train_test_split\n",
    "from statistics import mode\n",
    "\n",
    "\n",
    "# load data and normal\n",
    "df = pd.read_csv(\"sorlie.csv\", header=None)\n",
    "data = np.array(df)\n",
    "X = data[:, 0:456]\n",
    "y = data[:,456]\n",
    "scaler = MinMaxScaler()\n",
    "X = scaler.fit_transform(X)\n",
    "\n",
    "\n",
    "\n",
    "# KNN\n",
    "def knn(split_data, K):\n",
    "    Y_test = []\n",
    "    for i in range(len(split_data[1])):\n",
    "        x_test = split_data[1][i]\n",
    "        dist = []\n",
    "        for j in range(len(split_data[0])):\n",
    "            x_train = split_data[0][j]\n",
    "            dist.append([distance.euclidean(x_test, x_train), j])\n",
    "        \n",
    "        dist.sort(key=lambda x: x[0])\n",
    "        dist = dist[:K]\n",
    "        y = []\n",
    "        for k in dist:\n",
    "            index = k[1]\n",
    "            y.append(split_data[2][index])\n",
    "          \n",
    "        y_test = mode(y)\n",
    "        Y_test.append(y_test)\n",
    "        \n",
    "    return Y_test\n",
    "           \n",
    "        \n",
    "    \n",
    "\n",
    "# Holdout and Validation \n",
    "accuracy = []\n",
    "precision = []\n",
    "recall = []\n",
    "\n",
    "for i in range(20):\n",
    "    X_train, X_test, Y_train, Y_test = train_test_split(X, y, test_size=0.2)   \n",
    "    lable_predict = knn([X_train, X_test, Y_train], 3)\n",
    "    accuracy.append(accuracy_score(Y_test, lable_predict))\n",
    "    precision.append(precision_score(Y_test, lable_predict, average='weighted'))\n",
    "    recall.append(recall_score(Y_test, lable_predict, average='weighted'))\n",
    "    \n",
    "accuracy1 = np.mean(accuracy)   \n",
    "precision1 = np.mean(precision)   \n",
    "recall1 = np.mean(recall) \n",
    "\n",
    "print(\"accuracy : \" , accuracy1)\n",
    "print(\"precision : \" , precision1)\n",
    "print(\"recall : \" , recall1)\n",
    "\n"
   ]
  },
  {
   "cell_type": "code",
   "execution_count": null,
   "metadata": {},
   "outputs": [],
   "source": []
  },
  {
   "cell_type": "code",
   "execution_count": null,
   "metadata": {},
   "outputs": [],
   "source": []
  }
 ],
 "metadata": {
  "kernelspec": {
   "display_name": "Python 3",
   "language": "python",
   "name": "python3"
  },
  "language_info": {
   "codemirror_mode": {
    "name": "ipython",
    "version": 3
   },
   "file_extension": ".py",
   "mimetype": "text/x-python",
   "name": "python",
   "nbconvert_exporter": "python",
   "pygments_lexer": "ipython3",
   "version": "3.8.5"
  }
 },
 "nbformat": 4,
 "nbformat_minor": 4
}
